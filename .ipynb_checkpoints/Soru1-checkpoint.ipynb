{
 "cells": [
  {
   "cell_type": "code",
   "execution_count": null,
   "id": "5ef83b53",
   "metadata": {},
   "outputs": [
    {
     "name": "stdout",
     "output_type": "stream",
     "text": [
      "Np         0\n",
      "Pg         0\n",
      "Dbp        0\n",
      "Tst        0\n",
      "2Si        0\n",
      "Bmi        0\n",
      "Dpf        0\n",
      "Age        0\n",
      "Outcome    0\n",
      "dtype: int64\n",
      "Training Logistic Regression...\n",
      "Best params for Logistic Regression: {'C': 10}\n",
      "Best cross-validation accuracy for Logistic Regression: 0.7655071304811408\n",
      "Training Decision Tree...\n",
      "Best params for Decision Tree: {'max_depth': 3}\n",
      "Best cross-validation accuracy for Decision Tree: 0.7573903771824604\n",
      "Training Random Forest...\n"
     ]
    }
   ],
   "source": [
    "# Kütüphaneler\n",
    "import pandas as pd\n",
    "import numpy as np\n",
    "from sklearn.model_selection import train_test_split, GridSearchCV\n",
    "from sklearn.preprocessing import StandardScaler\n",
    "from sklearn.pipeline import Pipeline\n",
    "from sklearn.metrics import classification_report, accuracy_score\n",
    "from sklearn.linear_model import LogisticRegression\n",
    "from sklearn.tree import DecisionTreeClassifier\n",
    "from sklearn.ensemble import RandomForestClassifier\n",
    "from sklearn.svm import SVC\n",
    "\n",
    "# Veri setinin yüklenmesi ve sütun isimlerinin verilmesi\n",
    "data = pd.read_csv('veri-seti.txt', sep='\\t')\n",
    "data.columns = ['Np', 'Pg', 'Dbp', 'Tst', '2Si', 'Bmi', 'Dpf', 'Age', 'Outcome']\n",
    "\n",
    "# Eksik verilerin kontrol edilmesi\n",
    "print(data.isnull().sum())\n",
    "\n",
    "# Özellikler ve hedef değişkenin ayrılması\n",
    "X = data.drop('Outcome', axis=1)\n",
    "y = data['Outcome']\n",
    "\n",
    "# Eğitim ve test verisinin ayrılması\n",
    "X_train, X_test, y_train, y_test = train_test_split(X, y, test_size=0.2, random_state=42)\n",
    "\n",
    "# Verilerin standartlaştırılması\n",
    "scaler = StandardScaler()\n",
    "X_train = scaler.fit_transform(X_train)\n",
    "X_test = scaler.transform(X_test)\n",
    "\n",
    "# Model ve hiperparametrelerin tanımlanması\n",
    "models = {\n",
    "    'Logistic Regression': LogisticRegression(),\n",
    "    'Decision Tree': DecisionTreeClassifier(),\n",
    "    'Random Forest': RandomForestClassifier(),\n",
    "    'SVM': SVC()\n",
    "}\n",
    "\n",
    "param_grids = {\n",
    "    'Logistic Regression': {'C': [0.1, 1, 10, 100]},\n",
    "    'Decision Tree': {'max_depth': [3, 5, 7, 10]},\n",
    "    'Random Forest': {'n_estimators': [50, 100, 200], 'max_depth': [3, 5, 7, 10]},\n",
    "    'SVM': {'C': [0.1, 1, 10, 100], 'kernel': ['linear', 'rbf']}\n",
    "}\n",
    "\n",
    "# Modellerin eğitilmesi ve optimizasyonu\n",
    "best_models = {}\n",
    "for model_name, model in models.items():\n",
    "    print(f\"Training {model_name}...\")\n",
    "    grid_search = GridSearchCV(model, param_grids[model_name], cv=5, scoring='accuracy')\n",
    "    grid_search.fit(X_train, y_train)\n",
    "    best_models[model_name] = grid_search.best_estimator_\n",
    "    print(f\"Best params for {model_name}: {grid_search.best_params_}\")\n",
    "    print(f\"Best cross-validation accuracy for {model_name}: {grid_search.best_score_}\")\n",
    "\n",
    "# Modellerin test verisi üzerinde değerlendirilmesi\n",
    "for model_name, model in best_models.items():\n",
    "    y_pred = model.predict(X_test)\n",
    "    print(f\"Results for {model_name}:\")\n",
    "    print(classification_report(y_test, y_pred))\n",
    "    print(f\"Accuracy: {accuracy_score(y_test, y_pred)}\")\n"
   ]
  },
  {
   "cell_type": "code",
   "execution_count": null,
   "id": "bbbebd5f",
   "metadata": {},
   "outputs": [],
   "source": []
  }
 ],
 "metadata": {
  "kernelspec": {
   "display_name": "Python 3 (ipykernel)",
   "language": "python",
   "name": "python3"
  },
  "language_info": {
   "codemirror_mode": {
    "name": "ipython",
    "version": 3
   },
   "file_extension": ".py",
   "mimetype": "text/x-python",
   "name": "python",
   "nbconvert_exporter": "python",
   "pygments_lexer": "ipython3",
   "version": "3.10.9"
  }
 },
 "nbformat": 4,
 "nbformat_minor": 5
}
